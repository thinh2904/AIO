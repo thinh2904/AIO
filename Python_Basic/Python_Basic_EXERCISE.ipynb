{
  "nbformat": 4,
  "nbformat_minor": 0,
  "metadata": {
    "colab": {
      "provenance": [],
      "authorship_tag": "ABX9TyMwt/axTvLWDnVjFJVRJ1XS",
      "include_colab_link": true
    },
    "kernelspec": {
      "name": "python3",
      "display_name": "Python 3"
    },
    "language_info": {
      "name": "python"
    }
  },
  "cells": [
    {
      "cell_type": "markdown",
      "metadata": {
        "id": "view-in-github",
        "colab_type": "text"
      },
      "source": [
        "<a href=\"https://colab.research.google.com/github/thinh2904/AIO/blob/main/Python_Basic/Python_Basic_EXERCISE.ipynb\" target=\"_parent\"><img src=\"https://colab.research.google.com/assets/colab-badge.svg\" alt=\"Open In Colab\"/></a>"
      ]
    },
    {
      "cell_type": "code",
      "execution_count": null,
      "metadata": {
        "id": "hISwxlpSf9GR"
      },
      "outputs": [],
      "source": [
        "import math\n",
        "\n",
        "\n",
        "def calc_cube_volume(s):\n",
        "    '''\n",
        "    this function is calculate cube volume\n",
        "    s --> edge lenght\n",
        "    output is cube volume\n",
        "    '''\n",
        "    result = s*s*s\n",
        "    return result\n",
        "\n",
        "\n",
        "def calc_rectangular_box_volume(l, w, h):\n",
        "    '''\n",
        "    this function is calculate rectangular box volume\n",
        "    l --> lenght of rectangular box\n",
        "    w --> width of rectangular box\n",
        "    h --> height of rectangular box\n",
        "    output is rectangular volume\n",
        "    '''\n",
        "    result = l*w*h\n",
        "    return result\n",
        "\n",
        "\n",
        "def calc_cylinder_volume(r, h):\n",
        "    '''\n",
        "    this function is calculate cylinder volume\n",
        "    r --> radius of cicle\n",
        "    h --> height of cylinder\n",
        "    output is cylinder volume\n",
        "    '''\n",
        "    result = math.pi*r*r*h\n",
        "    return result\n",
        "\n",
        "\n",
        "def calc_sphere_volume(r):\n",
        "    '''\n",
        "    this function is calculate sphere volume\n",
        "    r --> radius of sphere\n",
        "    output is sphere volume\n",
        "    '''\n",
        "    result = (4/3)*math.pi*r*r*r\n",
        "    return result"
      ]
    },
    {
      "cell_type": "code",
      "source": [
        "calc_cube_volume(s=3)"
      ],
      "metadata": {
        "colab": {
          "base_uri": "https://localhost:8080/"
        },
        "id": "XTwC1xcM4r4X",
        "outputId": "3ba5c5d0-c3c2-4835-91c3-f731121853cc"
      },
      "execution_count": null,
      "outputs": [
        {
          "output_type": "execute_result",
          "data": {
            "text/plain": [
              "27"
            ]
          },
          "metadata": {},
          "execution_count": 2
        }
      ]
    },
    {
      "cell_type": "code",
      "source": [
        "calc_rectangular_box_volume(l=1, w=2, h=3)"
      ],
      "metadata": {
        "colab": {
          "base_uri": "https://localhost:8080/"
        },
        "id": "bDRZAaYY4zGG",
        "outputId": "3707f31d-69e9-4f4a-e670-8a32f95e7b73"
      },
      "execution_count": null,
      "outputs": [
        {
          "output_type": "execute_result",
          "data": {
            "text/plain": [
              "6"
            ]
          },
          "metadata": {},
          "execution_count": 3
        }
      ]
    },
    {
      "cell_type": "code",
      "source": [
        "calc_cylinder_volume(r=1.2, h=4)"
      ],
      "metadata": {
        "colab": {
          "base_uri": "https://localhost:8080/"
        },
        "id": "04919dkA49-y",
        "outputId": "c88c0ba3-7442-41fa-f89d-e23a03077302"
      },
      "execution_count": null,
      "outputs": [
        {
          "output_type": "execute_result",
          "data": {
            "text/plain": [
              "18.09557368467721"
            ]
          },
          "metadata": {},
          "execution_count": 4
        }
      ]
    },
    {
      "cell_type": "code",
      "source": [
        "calc_sphere_volume(r=1.3)"
      ],
      "metadata": {
        "colab": {
          "base_uri": "https://localhost:8080/"
        },
        "id": "ONlBUhAT5FhG",
        "outputId": "d64be013-a34c-4a72-d9d3-334c38b1352c"
      },
      "execution_count": null,
      "outputs": [
        {
          "output_type": "execute_result",
          "data": {
            "text/plain": [
              "9.202772079915702"
            ]
          },
          "metadata": {},
          "execution_count": 5
        }
      ]
    },
    {
      "cell_type": "code",
      "source": [],
      "metadata": {
        "id": "YCUPyI-N9yk8"
      },
      "execution_count": null,
      "outputs": []
    }
  ]
}