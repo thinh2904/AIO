{
  "nbformat": 4,
  "nbformat_minor": 0,
  "metadata": {
    "colab": {
      "provenance": [],
      "authorship_tag": "ABX9TyNYt1s4zO1iplGeL8IuCt0A",
      "include_colab_link": true
    },
    "kernelspec": {
      "name": "python3",
      "display_name": "Python 3"
    },
    "language_info": {
      "name": "python"
    }
  },
  "cells": [
    {
      "cell_type": "markdown",
      "metadata": {
        "id": "view-in-github",
        "colab_type": "text"
      },
      "source": [
        "<a href=\"https://colab.research.google.com/github/thinh2904/AIO/blob/main/Python_Basic/Python_Basic_EXERCISE.ipynb\" target=\"_parent\"><img src=\"https://colab.research.google.com/assets/colab-badge.svg\" alt=\"Open In Colab\"/></a>"
      ]
    },
    {
      "cell_type": "markdown",
      "source": [
        "# Excercise 1: Function calculate volume"
      ],
      "metadata": {
        "id": "rHyHm_JR7mm0"
      }
    },
    {
      "cell_type": "code",
      "execution_count": 14,
      "metadata": {
        "id": "hISwxlpSf9GR"
      },
      "outputs": [],
      "source": [
        "import math\n",
        "\n",
        "\n",
        "def calc_cube_volume(s):\n",
        "    '''\n",
        "    this function is calculate cube volume\n",
        "    s --> edge lenght\n",
        "    output is cube volume\n",
        "    '''\n",
        "    result = s*s*s\n",
        "    return result\n",
        "\n",
        "\n",
        "def calc_rectangular_box_volume(l, w, h):\n",
        "    '''\n",
        "    this function is calculate rectangular box volume\n",
        "    l --> lenght of rectangular box\n",
        "    w --> width of rectangular box\n",
        "    h --> height of rectangular box\n",
        "    output is rectangular volume\n",
        "    '''\n",
        "    result = l*w*h\n",
        "    return result\n",
        "\n",
        "\n",
        "def calc_cylinder_volume(r, h):\n",
        "    '''\n",
        "    this function is calculate cylinder volume\n",
        "    r --> radius of cicle\n",
        "    h --> height of cylinder\n",
        "    output is cylinder volume\n",
        "    '''\n",
        "    result = math.pi*r*r*h\n",
        "    return result\n",
        "\n",
        "\n",
        "def calc_sphere_volume(r):\n",
        "    '''\n",
        "    this function is calculate sphere volume\n",
        "    r --> radius of sphere\n",
        "    output is sphere volume\n",
        "    '''\n",
        "    result = (4/3)*math.pi*r*r*r\n",
        "    return result"
      ]
    },
    {
      "cell_type": "code",
      "source": [
        "calc_cube_volume(s=3)"
      ],
      "metadata": {
        "colab": {
          "base_uri": "https://localhost:8080/"
        },
        "id": "XTwC1xcM4r4X",
        "outputId": "b6f1587d-9444-4918-fb31-564afeeaa390"
      },
      "execution_count": 15,
      "outputs": [
        {
          "output_type": "execute_result",
          "data": {
            "text/plain": [
              "27"
            ]
          },
          "metadata": {},
          "execution_count": 15
        }
      ]
    },
    {
      "cell_type": "code",
      "source": [
        "calc_rectangular_box_volume(l=1, w=2, h=3)"
      ],
      "metadata": {
        "colab": {
          "base_uri": "https://localhost:8080/"
        },
        "id": "bDRZAaYY4zGG",
        "outputId": "0fc1dcf2-e008-4176-ad9e-fc8a02565ba0"
      },
      "execution_count": 16,
      "outputs": [
        {
          "output_type": "execute_result",
          "data": {
            "text/plain": [
              "6"
            ]
          },
          "metadata": {},
          "execution_count": 16
        }
      ]
    },
    {
      "cell_type": "code",
      "source": [
        "calc_cylinder_volume(r=1.2, h=4)"
      ],
      "metadata": {
        "colab": {
          "base_uri": "https://localhost:8080/"
        },
        "id": "04919dkA49-y",
        "outputId": "bc8aec11-aae6-4535-cbd4-f69b956e27e6"
      },
      "execution_count": 17,
      "outputs": [
        {
          "output_type": "execute_result",
          "data": {
            "text/plain": [
              "18.09557368467721"
            ]
          },
          "metadata": {},
          "execution_count": 17
        }
      ]
    },
    {
      "cell_type": "code",
      "source": [
        "calc_sphere_volume(r=1.3)"
      ],
      "metadata": {
        "colab": {
          "base_uri": "https://localhost:8080/"
        },
        "id": "ONlBUhAT5FhG",
        "outputId": "db864377-9565-4e96-f022-d7861f571b7b"
      },
      "execution_count": 18,
      "outputs": [
        {
          "output_type": "execute_result",
          "data": {
            "text/plain": [
              "9.202772079915702"
            ]
          },
          "metadata": {},
          "execution_count": 18
        }
      ]
    },
    {
      "cell_type": "markdown",
      "source": [
        "# Excercise 2: Calculate F1-Score"
      ],
      "metadata": {
        "id": "_UuzFcCd7xBx"
      }
    },
    {
      "cell_type": "code",
      "source": [
        "def calc_f1_score(tp, fp, fn):\n",
        "    '''\n",
        "    this function is calculate precision, recall, f1 score\n",
        "    tp --> true positive\n",
        "    fp --> false positive\n",
        "    fn --> false negative\n",
        "    output is precision, recall, f1 score\n",
        "    '''\n",
        "\n",
        "    #check type must be int\n",
        "    if type(tp) != int:\n",
        "        print(\"tp must be int\")\n",
        "        return\n",
        "    if type(fp) != int:\n",
        "        print(\"fp must be int\")\n",
        "        return\n",
        "    if type(fn) != int:\n",
        "        print(\"fn must be int\")\n",
        "        return\n",
        "    if (tp and fp and fn) <= 0:\n",
        "        print(\"tp and fp and fn must be greater than zero\")\n",
        "        return\n",
        "    #calculate precision, recall, f1 score\n",
        "    precision = tp / (tp + fp)\n",
        "    recall = tp / (tp + fn)\n",
        "    f1_score = 2 * (precision * recall) / (precision + recall)\n",
        "    print(f\"precision is {precision}\")\n",
        "    print(f\"recall is {recall}\")\n",
        "    print(f\"f1 score is {f1_score}\")"
      ],
      "metadata": {
        "id": "YCUPyI-N9yk8"
      },
      "execution_count": 19,
      "outputs": []
    },
    {
      "cell_type": "code",
      "source": [
        "calc_f1_score(tp=2, fp=3, fn=4)"
      ],
      "metadata": {
        "colab": {
          "base_uri": "https://localhost:8080/"
        },
        "id": "Pyu4NFrN5DgV",
        "outputId": "24dd61f2-a643-4818-872f-329066ffdc42"
      },
      "execution_count": 20,
      "outputs": [
        {
          "output_type": "stream",
          "name": "stdout",
          "text": [
            "precision is 0.4\n",
            "recall is 0.3333333333333333\n",
            "f1 score is 0.3636363636363636\n"
          ]
        }
      ]
    },
    {
      "cell_type": "code",
      "source": [
        "calc_f1_score(tp ='a', fp =3, fn =4)"
      ],
      "metadata": {
        "colab": {
          "base_uri": "https://localhost:8080/"
        },
        "id": "HGi0TjRu5ObV",
        "outputId": "ca58dcb7-c875-48ed-9c3f-4dd0600b06ec"
      },
      "execution_count": 21,
      "outputs": [
        {
          "output_type": "stream",
          "name": "stdout",
          "text": [
            "tp must be int\n"
          ]
        }
      ]
    },
    {
      "cell_type": "code",
      "source": [
        "calc_f1_score(tp=2, fp='a', fn=4)"
      ],
      "metadata": {
        "colab": {
          "base_uri": "https://localhost:8080/"
        },
        "id": "rVChNhWd5kRn",
        "outputId": "ea32014f-4be4-4628-c89f-267dd1b11bbd"
      },
      "execution_count": 22,
      "outputs": [
        {
          "output_type": "stream",
          "name": "stdout",
          "text": [
            "fp must be int\n"
          ]
        }
      ]
    },
    {
      "cell_type": "code",
      "source": [
        "calc_f1_score(tp=2, fp=3, fn='a')"
      ],
      "metadata": {
        "colab": {
          "base_uri": "https://localhost:8080/"
        },
        "id": "i1W73DX562-0",
        "outputId": "15d66977-fbc6-447e-d349-108b6112c5ed"
      },
      "execution_count": 23,
      "outputs": [
        {
          "output_type": "stream",
          "name": "stdout",
          "text": [
            "fn must be int\n"
          ]
        }
      ]
    },
    {
      "cell_type": "code",
      "source": [
        "calc_f1_score(tp=2, fp=3, fn=0)"
      ],
      "metadata": {
        "colab": {
          "base_uri": "https://localhost:8080/"
        },
        "id": "M8PWeDtl68PR",
        "outputId": "79d0ae42-bcc6-402d-9cbd-1e87df85d26a"
      },
      "execution_count": 24,
      "outputs": [
        {
          "output_type": "stream",
          "name": "stdout",
          "text": [
            "tp and fp and fn must be greater than zero\n"
          ]
        }
      ]
    },
    {
      "cell_type": "markdown",
      "source": [
        "#Excercise 3: Calculate Activate Function"
      ],
      "metadata": {
        "id": "KFipCfYA_Vxz"
      }
    },
    {
      "cell_type": "code",
      "source": [
        "def is_number(x):\n",
        "    try:\n",
        "      float(x)\n",
        "    except ValueError:\n",
        "      return False\n",
        "    return True"
      ],
      "metadata": {
        "id": "5CLPOIK7FumJ"
      },
      "execution_count": 40,
      "outputs": []
    },
    {
      "cell_type": "code",
      "source": [
        "def excercise3():\n",
        "    '''\n",
        "    this function is calculate activation function (binary, sigmoid, elu)\n",
        "    input is x and activation name\n",
        "    output is calculate function with x and activation style\n",
        "    '''\n",
        "    x = input(\"Input x = \")\n",
        "    if not is_number(x):\n",
        "        print(\"x must be a number\")\n",
        "        return\n",
        "    x = float(x)\n",
        "    activation_name = input(\"Input Activation Name (binary|sigmoid|elu): \")\n",
        "    if (activation_name != 'binary' and activation_name != 'sigmoid' and activation_name != 'elu'):\n",
        "        print(f\"{activation_name} is not supported\")\n",
        "        return\n",
        "    alpha = 0.01\n",
        "    f = 0\n",
        "    if activation_name == 'binary':\n",
        "        if x < 0:\n",
        "            f = 0\n",
        "        else:\n",
        "            f = 1\n",
        "    if activation_name == 'sigmoid':\n",
        "        f = 1 / (1 + math.exp(-x))\n",
        "    if activation_name == 'elu':\n",
        "        if x < 0:\n",
        "            f = alpha*(math.exp(x) - 1)\n",
        "        else:\n",
        "            f = x\n",
        "    print(f\"{activation_name}: f({x}) = {f}\")"
      ],
      "metadata": {
        "id": "JYkdkS6S_bG5"
      },
      "execution_count": 52,
      "outputs": []
    },
    {
      "cell_type": "code",
      "source": [
        "excercise3()"
      ],
      "metadata": {
        "colab": {
          "base_uri": "https://localhost:8080/"
        },
        "id": "is7GuzAnGSEK",
        "outputId": "e120e2d4-1c25-4964-ed1d-1d7448c9b2d7"
      },
      "execution_count": 53,
      "outputs": [
        {
          "output_type": "stream",
          "name": "stdout",
          "text": [
            "Input x = 1.5\n",
            "Input Activation Name (binary|sigmoid|elu): sigmoid\n",
            "sigmoid: f(1.5) = 0.8175744761936437\n"
          ]
        }
      ]
    },
    {
      "cell_type": "code",
      "source": [
        "excercise3()"
      ],
      "metadata": {
        "colab": {
          "base_uri": "https://localhost:8080/"
        },
        "id": "YA3ylAxdLIvM",
        "outputId": "6bb4ddb1-d273-473b-aa22-2945a930078b"
      },
      "execution_count": 54,
      "outputs": [
        {
          "output_type": "stream",
          "name": "stdout",
          "text": [
            "Input x = abc\n",
            "x must be a number\n"
          ]
        }
      ]
    },
    {
      "cell_type": "code",
      "source": [
        "excercise3()"
      ],
      "metadata": {
        "colab": {
          "base_uri": "https://localhost:8080/"
        },
        "id": "koRgAY5eLMX8",
        "outputId": "338f4d24-4696-433d-b91e-21d60119ba29"
      },
      "execution_count": 55,
      "outputs": [
        {
          "output_type": "stream",
          "name": "stdout",
          "text": [
            "Input x = 1.5\n",
            "Input Activation Name (binary|sigmoid|elu): relu\n",
            "relu is not supported\n"
          ]
        }
      ]
    },
    {
      "cell_type": "markdown",
      "source": [
        "#Excersice 4: Regression loss function"
      ],
      "metadata": {
        "id": "2b5mnABVOooT"
      }
    },
    {
      "cell_type": "code",
      "source": [
        "for i in range(2):\n",
        "  a=  1\n",
        "  b= 2\n",
        "c = a+b\n",
        "print(c)"
      ],
      "metadata": {
        "colab": {
          "base_uri": "https://localhost:8080/"
        },
        "id": "VjBUDT2BVPK0",
        "outputId": "cfc9d1c7-949a-4a46-b3c2-f5336c7317fc"
      },
      "execution_count": 79,
      "outputs": [
        {
          "output_type": "stream",
          "name": "stdout",
          "text": [
            "3\n"
          ]
        }
      ]
    },
    {
      "cell_type": "code",
      "source": [
        "import random\n",
        "\n",
        "def excercise4():\n",
        "    num_samples = input(\"Input number of samples (integer number) which are generated: \")\n",
        "    if not num_samples.isnumeric():\n",
        "        print(\"number of samples must be a integer number\")\n",
        "        return\n",
        "    loss_name = input(\"Input loss name: \")\n",
        "    if loss_name == 'MAE':\n",
        "        for _ in range(num_samples):\n",
        "            predict = random.uniform(0, 10)\n",
        "            target = random.uniform(0 ,10)\n",
        "            loss = target - target\n",
        ""
      ],
      "metadata": {
        "id": "86-3jCAqOoQr"
      },
      "execution_count": null,
      "outputs": []
    }
  ]
}